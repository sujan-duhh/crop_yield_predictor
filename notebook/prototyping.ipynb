{
 "cells": [
  {
   "cell_type": "code",
   "execution_count": 39,
   "id": "ce0d172a",
   "metadata": {},
   "outputs": [],
   "source": [
    "import pandas as pd\n",
    "import numpy as np\n",
    "from sklearn.model_selection import train_test_split,cross_val_score\n",
    "from sklearn.linear_model import LinearRegression\n",
    "from sklearn.preprocessing import OrdinalEncoder,StandardScaler,OneHotEncoder\n",
    "from sklearn.metrics import r2_score,mean_squared_error\n",
    "from sklearn.tree import DecisionTreeRegressor\n",
    "from sklearn.ensemble import RandomForestRegressor,BaggingRegressor\n",
    "from xgboost import XGBRegressor"
   ]
  },
  {
   "cell_type": "code",
   "execution_count": 40,
   "id": "bdf181a0",
   "metadata": {},
   "outputs": [
    {
     "name": "stdout",
     "output_type": "stream",
     "text": [
      "<class 'pandas.core.frame.DataFrame'>\n",
      "RangeIndex: 50765 entries, 0 to 50764\n",
      "Data columns (total 20 columns):\n",
      " #   Column                     Non-Null Count  Dtype  \n",
      "---  ------                     --------------  -----  \n",
      " 0   Dist Code                  50765 non-null  int64  \n",
      " 1   Year                       50765 non-null  int64  \n",
      " 2   State Code                 50765 non-null  int64  \n",
      " 3   State Name                 50765 non-null  object \n",
      " 4   Dist Name                  50765 non-null  object \n",
      " 5   Crop                       50765 non-null  object \n",
      " 6   Area_ha                    50765 non-null  float64\n",
      " 7   Yield_kg_per_ha            50765 non-null  float64\n",
      " 8   N_req_kg_per_ha            50765 non-null  float64\n",
      " 9   P_req_kg_per_ha            50765 non-null  float64\n",
      " 10  K_req_kg_per_ha            50765 non-null  float64\n",
      " 11  Total_N_kg                 50765 non-null  float64\n",
      " 12  Total_P_kg                 50765 non-null  float64\n",
      " 13  Total_K_kg                 50765 non-null  float64\n",
      " 14  Temperature_C              50765 non-null  int64  \n",
      " 15  Humidity_%                 50765 non-null  int64  \n",
      " 16  pH                         50765 non-null  float64\n",
      " 17  Rainfall_mm                50765 non-null  int64  \n",
      " 18  Wind_Speed_m_s             50765 non-null  float64\n",
      " 19  Solar_Radiation_MJ_m2_day  50765 non-null  int64  \n",
      "dtypes: float64(10), int64(7), object(3)\n",
      "memory usage: 7.7+ MB\n"
     ]
    }
   ],
   "source": [
    "data = pd.read_csv(r\"Custom_Crops_yield_Historical_Dataset.csv\")\n",
    "data.info()"
   ]
  },
  {
   "cell_type": "code",
   "execution_count": 41,
   "id": "b53b06d5",
   "metadata": {},
   "outputs": [],
   "source": [
    "dataset = data.drop([\"State Code\",\"Dist Code\",\"Total_N_kg\",\"Total_P_kg\",\"Total_K_kg\"],axis=1)"
   ]
  },
  {
   "cell_type": "code",
   "execution_count": 42,
   "id": "91683792",
   "metadata": {},
   "outputs": [],
   "source": [
    "dataset.columns = dataset.columns.str.strip().str.lower().str.replace(\" \", \"_\")"
   ]
  },
  {
   "cell_type": "code",
   "execution_count": 43,
   "id": "40d60aeb",
   "metadata": {},
   "outputs": [],
   "source": [
    "x = dataset.drop(\"yield_kg_per_ha\",axis=1)\n",
    "y = dataset[\"yield_kg_per_ha\"]"
   ]
  },
  {
   "cell_type": "code",
   "execution_count": 44,
   "id": "1726ee34",
   "metadata": {},
   "outputs": [],
   "source": [
    "cat_cols=[\"state_name\",\"dist_name\",\"crop\"]\n",
    "num_cols=[x for x in x.columns if x not in cat_cols]"
   ]
  },
  {
   "cell_type": "code",
   "execution_count": 45,
   "id": "7b8e71fa",
   "metadata": {},
   "outputs": [],
   "source": [
    "encoder = OneHotEncoder(handle_unknown=\"ignore\",sparse_output=False)\n",
    "encoded_cat = pd.DataFrame(\n",
    "    encoder.fit_transform(x[cat_cols]),\n",
    "    columns=encoder.get_feature_names_out(cat_cols),\n",
    "    index=x.index\n",
    ")"
   ]
  },
  {
   "cell_type": "code",
   "execution_count": 46,
   "id": "5b6c2526",
   "metadata": {},
   "outputs": [],
   "source": [
    "scaler = StandardScaler()\n",
    "scaled_num = pd.DataFrame(\n",
    "    scaler.fit_transform(x[num_cols]),\n",
    "    columns=num_cols,\n",
    "    index=x.index\n",
    ")"
   ]
  },
  {
   "cell_type": "code",
   "execution_count": 47,
   "id": "26555e58",
   "metadata": {},
   "outputs": [],
   "source": [
    "x_processed = pd.concat([encoded_cat,scaled_num],axis=1)"
   ]
  },
  {
   "cell_type": "code",
   "execution_count": 48,
   "id": "8a5ee89f",
   "metadata": {},
   "outputs": [],
   "source": [
    "x_train,x_test,y_train,y_test= train_test_split(x_processed,y,test_size=0.2,random_state=47)"
   ]
  },
  {
   "cell_type": "code",
   "execution_count": 53,
   "id": "b237715c",
   "metadata": {},
   "outputs": [],
   "source": [
    "models={\n",
    "    \"Linear Regression\": LinearRegression(),\n",
    "    \"Random Forest\": RandomForestRegressor(n_estimators=200, random_state=47),\n",
    "    \"XGBoost\": XGBRegressor(n_estimators=500, learning_rate=0.05, max_depth=8, random_state=47),\n",
    "    \"Bagging (Linear Regression)\": BaggingRegressor(estimator=LinearRegression(), n_estimators=100, random_state=47),\n",
    "    \"Bagging (Decision Tree)\": BaggingRegressor(estimator=DecisionTreeRegressor(max_depth=None, random_state=47), n_estimators=100, random_state=47, verbose=0),\n",
    "}"
   ]
  },
  {
   "cell_type": "code",
   "execution_count": null,
   "id": "3c900b01",
   "metadata": {},
   "outputs": [
    {
     "name": "stdout",
     "output_type": "stream",
     "text": [
      "                                 R2    RMSE  CV_R2_Mean  CV_R2_Std\n",
      "Linear Regression            0.9997   16.83      0.9996     0.0002\n",
      "Random Forest                0.9684  175.65      0.9571     0.0847\n",
      "XGBoost                      0.9358  250.37      0.9521     0.0844\n",
      "Bagging (Linear Regression)  0.9997   17.23      0.9996     0.0002\n",
      "Bagging (Decision Tree)      0.9698  171.65      0.9568     0.0849\n"
     ]
    }
   ],
   "source": [
    "results = {}\n",
    "for name, model in models.items():\n",
    "    model.fit(x_train, y_train)\n",
    "    y_pred = model.predict(x_test)\n",
    "\n",
    "    r2 = r2_score(y_test, y_pred)\n",
    "    mse = mean_squared_error(y_test,y_pred)\n",
    "    rmse = np.sqrt(mse)\n",
    "    cv_scores = cross_val_score(model, x_train, y_train, cv=5, scoring=\"r2\")\n",
    "\n",
    "    results[name] = {\n",
    "        \"R2\": round(r2, 4),\n",
    "        \"RMSE\": round(rmse, 2),\n",
    "        \"CV_R2_Mean\": round(cv_scores.mean(), 4),\n",
    "        \"CV_R2_Std\": round(cv_scores.std(), 4),\n",
    "    }\n",
    "\n",
    "results_df = pd.DataFrame(results).T\n",
    "print(results_df)"
   ]
  }
 ],
 "metadata": {
  "kernelspec": {
   "display_name": "Python 3",
   "language": "python",
   "name": "python3"
  },
  "language_info": {
   "codemirror_mode": {
    "name": "ipython",
    "version": 3
   },
   "file_extension": ".py",
   "mimetype": "text/x-python",
   "name": "python",
   "nbconvert_exporter": "python",
   "pygments_lexer": "ipython3",
   "version": "3.12.3"
  }
 },
 "nbformat": 4,
 "nbformat_minor": 5
}
